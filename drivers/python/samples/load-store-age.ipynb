{
 "cells": [
  {
   "cell_type": "code",
   "execution_count": 4,
   "metadata": {},
   "outputs": [],
   "source": [
    "import psycopg2, age, importlib, os\n",
    "import age.LoadStoreAge.LoadAge as load_age, age.LoadStoreAge.StoreAge as store_age\n",
    "GRAPH_NAME = 'test_load_store_age'\n",
    "conn = psycopg2.connect(\n",
    "    host = 'localhost',\n",
    "    port = '5432',\n",
    "    dbname = 'postgres',\n",
    "    user = 'postgres',\n",
    "    password = 'password'\n",
    ")\n",
    "age.setUpAge(conn, GRAPH_NAME)"
   ]
  },
  {
   "cell_type": "code",
   "execution_count": 2,
   "metadata": {},
   "outputs": [
    {
     "data": {
      "text/plain": [
       "<module 'age.LoadStoreAge.LoadAge' from '/usr/local/lib/python3.10/dist-packages/age-1.0.0-py3.10.egg/age/LoadStoreAge/LoadAge.py'>"
      ]
     },
     "execution_count": 2,
     "metadata": {},
     "output_type": "execute_result"
    }
   ],
   "source": [
    "importlib.reload(store_age)\n",
    "importlib.reload(load_age)"
   ]
  },
  {
   "cell_type": "code",
   "execution_count": 5,
   "metadata": {},
   "outputs": [],
   "source": [
    "with conn.cursor() as cursor:\n",
    "    stmt = '''SELECT * from ag_catalog.cypher('%s', $$ MATCH (u) DETACH DELETE u $$) as (result agtype)''' % (GRAPH_NAME)\n",
    "    try:\n",
    "        cursor.execute('''SELECT ag_catalog.drop_graph(%s, true)''', (GRAPH_NAME,))\n",
    "        cursor.execute('''SELECT ag_catalog.create_graph(%s)''', (GRAPH_NAME,))\n",
    "        cursor.execute(stmt)\n",
    "        conn.commit()\n",
    "    except Exception as ex:\n",
    "        print(type(ex), ex)\n",
    "\n",
    "total_edges = 4000\n",
    "with conn.cursor() as cursor:\n",
    "    for i in range(total_edges):\n",
    "        try:\n",
    "            cursor.execute('''\n",
    "            SELECT * FROM cypher(%s, $$ CREATE (n: VertexA {id: %s})-[e: EDGE {id: %s}]->(m: VertexB {id: %s}) $$) AS (result agtype)\n",
    "            ''', (GRAPH_NAME, str(i), str(i), str(i)))\n",
    "            conn.commit()\n",
    "        except Exception as ex:\n",
    "            print(type(ex), ex)"
   ]
  },
  {
   "cell_type": "code",
   "execution_count": 7,
   "metadata": {},
   "outputs": [],
   "source": [
    "path = 'path_to/age/drivers/python/samples/age_load'"
   ]
  },
  {
   "cell_type": "code",
   "execution_count": 8,
   "metadata": {},
   "outputs": [],
   "source": [
    "try:\n",
    "    os.mkdir(path)\n",
    "except:\n",
    "    pass\n",
    "store_age.load_labels_into_file(conn, GRAPH_NAME, path)"
   ]
  },
  {
   "cell_type": "code",
   "execution_count": 9,
   "metadata": {},
   "outputs": [],
   "source": [
    "try:\n",
    "    os.mkdir(path)\n",
    "except:\n",
    "    pass\n",
    "store_age.load_edges_into_file(conn, GRAPH_NAME, path)"
   ]
  },
  {
   "cell_type": "code",
   "execution_count": 10,
   "metadata": {},
   "outputs": [],
   "source": [
    "with conn.cursor() as cursor:\n",
    "    stmt = '''SELECT * from ag_catalog.cypher('%s', $$ MATCH (u) DETACH DELETE u $$) as (result agtype)''' % (GRAPH_NAME)\n",
    "    try:\n",
    "        cursor.execute('''SELECT ag_catalog.drop_graph(%s, true)''', (GRAPH_NAME,))\n",
    "        cursor.execute('''SELECT ag_catalog.create_graph(%s)''', (GRAPH_NAME,))\n",
    "        cursor.execute(stmt)\n",
    "    except Exception as ex:\n",
    "        print(type(ex), ex)\n",
    "\n",
    "total_edges = 4000\n",
    "with conn.cursor() as cursor:\n",
    "    for i in range(total_edges):\n",
    "        try:\n",
    "            cursor.execute('''\n",
    "            SELECT * FROM cypher(%s, $$ CREATE (n: NodeA {key1: {\n",
    "        subkey1: {\n",
    "            subsubkey1: %s\n",
    "        }\n",
    "    }\n",
    "    })-[e: EDGE {id: %s,key1: {\n",
    "        subkey1: {\n",
    "            subsubkey1: %s\n",
    "        }\n",
    "    }}]->(m: NodeB {key3: {\n",
    "        subkey1: {\n",
    "            subsubkey1: %s\n",
    "        }}}) $$) AS (result agtype)\n",
    "            ''', (GRAPH_NAME, str(i), str(i), str(i), str(i)))\n",
    "            conn.commit()\n",
    "        except Exception as ex:\n",
    "            print(type(ex), ex)"
   ]
  },
  {
   "cell_type": "code",
   "execution_count": 11,
   "metadata": {},
   "outputs": [
    {
     "name": "stdout",
     "output_type": "stream",
     "text": [
      "<class 'FileExistsError'> [Errno 17] File exists: '/home/zainab/networkx-op/age/drivers/python/samples/age_load/data'\n",
      "<class 'FileExistsError'> [Errno 17] File exists: '/home/zainab/networkx-op/age/drivers/python/samples/age_load/meta_data'\n"
     ]
    }
   ],
   "source": [
    "try:\n",
    "    os.mkdir(path)\n",
    "except:\n",
    "    pass\n",
    "store_age.load_labels_into_file(conn, GRAPH_NAME, path)"
   ]
  },
  {
   "cell_type": "code",
   "execution_count": 12,
   "metadata": {},
   "outputs": [],
   "source": [
    "try:\n",
    "    os.mkdir(path)\n",
    "except:\n",
    "    pass\n",
    "store_age.load_edges_into_file(conn, GRAPH_NAME, path)"
   ]
  },
  {
   "cell_type": "code",
   "execution_count": 13,
   "metadata": {},
   "outputs": [],
   "source": [
    "conn.close()"
   ]
  }
 ],
 "metadata": {
  "kernelspec": {
   "display_name": "Python 3",
   "language": "python",
   "name": "python3"
  },
  "language_info": {
   "codemirror_mode": {
    "name": "ipython",
    "version": 3
   },
   "file_extension": ".py",
   "mimetype": "text/x-python",
   "name": "python",
   "nbconvert_exporter": "python",
   "pygments_lexer": "ipython3",
   "version": "3.10.6"
  },
  "orig_nbformat": 4
 },
 "nbformat": 4,
 "nbformat_minor": 2
}
