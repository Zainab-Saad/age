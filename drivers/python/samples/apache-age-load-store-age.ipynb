{
 "cells": [
  {
   "cell_type": "code",
   "execution_count": null,
   "metadata": {},
   "outputs": [],
   "source": [
    "import psycopg2, age, importlib, os\n",
    "import age.LoadStoreAge.LoadAge as load_age, age.LoadStoreAge.StoreAge as store_age\n",
    "GRAPH_NAME = 'test_load_store_age'\n",
    "conn = psycopg2.connect(\n",
    "    host = 'localhost',\n",
    "    port = '5432',\n",
    "    dbname = 'postgres',\n",
    "    user = 'postgres',\n",
    "    password = 'postgres'\n",
    ")\n",
    "age.setUpAge(conn, GRAPH_NAME)"
   ]
  },
  {
   "cell_type": "code",
   "execution_count": null,
   "metadata": {},
   "outputs": [],
   "source": [
    "importlib.reload(load_age)\n",
    "importlib.reload(store_age)"
   ]
  },
  {
   "cell_type": "code",
   "execution_count": 22,
   "metadata": {},
   "outputs": [],
   "source": [
    "def delete_graph_content():\n",
    "    with conn.cursor() as cursor:\n",
    "        stmt = '''SELECT * from ag_catalog.cypher('%s', $$ MATCH (u) DETACH DELETE u $$) as (result agtype)''' % (GRAPH_NAME)\n",
    "        try:\n",
    "            cursor.execute('''SELECT ag_catalog.drop_graph(%s, true)''', (GRAPH_NAME,))\n",
    "            cursor.execute('''SELECT ag_catalog.create_graph(%s)''', (GRAPH_NAME,))\n",
    "            cursor.execute(stmt)\n",
    "            conn.commit()\n",
    "        except Exception as ex:\n",
    "            print(type(ex), ex)"
   ]
  },
  {
   "cell_type": "code",
   "execution_count": 23,
   "metadata": {},
   "outputs": [],
   "source": [
    "delete_graph_content()"
   ]
  },
  {
   "attachments": {},
   "cell_type": "markdown",
   "metadata": {},
   "source": [
    "Load the data without nested properties to test loading AGE to CSV and vice versa"
   ]
  },
  {
   "cell_type": "code",
   "execution_count": 24,
   "metadata": {},
   "outputs": [],
   "source": [
    "label_city, label_country, label_edge = 'City', 'Country', 'EDGE'\n",
    "\n",
    "stmt1 = '''SELECT create_vlabel('%s', '%s')\n",
    "                WHERE _label_id('%s', '%s') = 0;''' % (GRAPH_NAME, label_country, GRAPH_NAME, label_country)\n",
    "\n",
    "stmt2 = '''SELECT create_vlabel('%s', '%s')\n",
    "                WHERE _label_id('%s', '%s') = 0;''' % (GRAPH_NAME, label_city, GRAPH_NAME, label_city)\n",
    "\n",
    "stmt3 = '''SELECT create_elabel('%s', '%s')\n",
    "                WHERE _label_id('%s', '%s') = 0;''' % (GRAPH_NAME, label_edge, GRAPH_NAME, label_edge)\n",
    "\n",
    "stmt4 = '''SELECT ag_catalog.load_labels_from_file('%s',\n",
    "                            '%s',\n",
    "                            'path_to/age/regress/age_load/data/countries.csv');''' % (GRAPH_NAME, label_country)\n",
    "stmt5 = '''SELECT ag_catalog.load_labels_from_file('%s',\n",
    "                            '%s',\n",
    "                            'path_to/age/regress/age_load/data/cities.csv');''' % (GRAPH_NAME, label_city)\n",
    "stmt6 = '''SELECT ag_catalog.load_edges_from_file('%s',\n",
    "                            '%s',\n",
    "                            'path_to/age/regress/age_load/data/edges.csv');''' % (GRAPH_NAME, label_edge)\n",
    "\n",
    "with conn.cursor() as cursor:\n",
    "    try:\n",
    "        cursor.execute(stmt1)\n",
    "        cursor.execute(stmt2)\n",
    "        cursor.execute(stmt3)\n",
    "        cursor.execute(stmt4)\n",
    "        cursor.execute(stmt5)\n",
    "        cursor.execute(stmt6)\n",
    "        conn.commit()\n",
    "    except Exception as ex:\n",
    "        print(type(ex), ex)"
   ]
  },
  {
   "cell_type": "code",
   "execution_count": 28,
   "metadata": {},
   "outputs": [],
   "source": [
    "try:\n",
    "    os.mkdir('path_to/age/drivers/python/samples/age_load')\n",
    "except:\n",
    "    pass\n",
    "path = 'path_to/age/drivers/python/samples/age_load'"
   ]
  },
  {
   "cell_type": "code",
   "execution_count": 29,
   "metadata": {},
   "outputs": [],
   "source": [
    "store_age.load_labels_into_file(conn, GRAPH_NAME, path)"
   ]
  },
  {
   "cell_type": "code",
   "execution_count": null,
   "metadata": {},
   "outputs": [],
   "source": [
    "store_age.load_edges_into_file(conn, GRAPH_NAME, path)"
   ]
  },
  {
   "cell_type": "code",
   "execution_count": 31,
   "metadata": {},
   "outputs": [],
   "source": [
    "delete_graph_content()"
   ]
  },
  {
   "cell_type": "code",
   "execution_count": 32,
   "metadata": {},
   "outputs": [],
   "source": [
    "load_age.load_labels_from_file(conn, GRAPH_NAME, path + '/data/Country.csv', 'Country')\n",
    "load_age.load_labels_from_file(conn, GRAPH_NAME,  path + '/data/City.csv', 'City')"
   ]
  },
  {
   "cell_type": "code",
   "execution_count": 33,
   "metadata": {},
   "outputs": [],
   "source": [
    "load_age.load_edges_from_file(conn, GRAPH_NAME,  path + '/data/EDGE.csv', 'EDGE')"
   ]
  },
  {
   "cell_type": "code",
   "execution_count": 34,
   "metadata": {},
   "outputs": [],
   "source": [
    "delete_graph_content()"
   ]
  },
  {
   "attachments": {},
   "cell_type": "markdown",
   "metadata": {},
   "source": [
    "Load the data with nested properties to test loading AGE to JSON and vice versa"
   ]
  },
  {
   "cell_type": "code",
   "execution_count": 35,
   "metadata": {},
   "outputs": [],
   "source": [
    "total_edges = 50000\n",
    "with conn.cursor() as cursor:\n",
    "    for i in range(total_edges):\n",
    "        try:\n",
    "            cursor.execute('''\n",
    "            SELECT * FROM cypher(%s, $$ CREATE (n: NodeA {id : %s,\n",
    "                key1: {\n",
    "        subkey1: {\n",
    "            subsubkey1: %s\n",
    "        }\n",
    "    }\n",
    "    })-[e: EDGE {id: %s,key1: {\n",
    "        subkey1: {\n",
    "            subsubkey1: %s\n",
    "        }\n",
    "    }}]->(m: NodeB {id : %s, key3: {\n",
    "        subkey1: {\n",
    "            subsubkey1: %s\n",
    "        }}}) $$) AS (result agtype)\n",
    "            ''', (GRAPH_NAME, str(i), str(i), str(i), str(i), str(i), str(i)))\n",
    "            conn.commit()\n",
    "        except Exception as ex:\n",
    "            print(type(ex), ex)"
   ]
  },
  {
   "cell_type": "code",
   "execution_count": null,
   "metadata": {},
   "outputs": [],
   "source": [
    "store_age.load_labels_into_file(conn, GRAPH_NAME, path)"
   ]
  },
  {
   "cell_type": "code",
   "execution_count": null,
   "metadata": {},
   "outputs": [],
   "source": [
    "store_age.load_edges_into_file(conn, GRAPH_NAME, path)"
   ]
  },
  {
   "cell_type": "code",
   "execution_count": 38,
   "metadata": {},
   "outputs": [],
   "source": [
    "delete_graph_content()"
   ]
  },
  {
   "cell_type": "code",
   "execution_count": 39,
   "metadata": {},
   "outputs": [],
   "source": [
    "load_age.load_labels_from_file(conn, GRAPH_NAME,  path + '/data/NodeB.json', 'NodeB')\n",
    "load_age.load_labels_from_file(conn, GRAPH_NAME,  path + '/data/NodeA.json', 'NodeA')"
   ]
  },
  {
   "cell_type": "code",
   "execution_count": 40,
   "metadata": {},
   "outputs": [],
   "source": [
    "load_age.load_edges_from_file(conn, GRAPH_NAME,  path + '/data/EDGE.json', 'EDGE')"
   ]
  },
  {
   "cell_type": "code",
   "execution_count": 41,
   "metadata": {},
   "outputs": [],
   "source": [
    "conn.close()"
   ]
  },
  {
   "cell_type": "code",
   "execution_count": null,
   "metadata": {},
   "outputs": [],
   "source": [
    "import shutil\n",
    "shutil.rmtree(path)"
   ]
  }
 ],
 "metadata": {
  "kernelspec": {
   "display_name": "Python 3",
   "language": "python",
   "name": "python3"
  },
  "language_info": {
   "codemirror_mode": {
    "name": "ipython",
    "version": 3
   },
   "file_extension": ".py",
   "mimetype": "text/x-python",
   "name": "python",
   "nbconvert_exporter": "python",
   "pygments_lexer": "ipython3",
   "version": "3.10.6"
  },
  "orig_nbformat": 4
 },
 "nbformat": 4,
 "nbformat_minor": 2
}
