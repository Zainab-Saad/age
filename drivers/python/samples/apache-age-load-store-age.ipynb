{
 "cells": [
  {
   "cell_type": "code",
   "execution_count": 22,
   "metadata": {},
   "outputs": [],
   "source": [
    "import age\n",
    "import age.LoadStoreAge.LoadAge as load_age, age.LoadStoreAge.StoreAge as store_age\n",
    "GRAPH_NAME = \"test_csv_load_age\"\n",
    "DSN = \"host=127.0.0.1 port=5432 dbname=postgres user=postgres password=password\"\n",
    "# connect to postgreSQL database using AGE extension\n",
    "age_obj = age.Age()\n",
    "ag = age_obj.connect(graph=GRAPH_NAME, dsn= DSN)"
   ]
  },
  {
   "attachments": {},
   "cell_type": "markdown",
   "metadata": {},
   "source": [
    "Create test nodes and edges, with simple properties here"
   ]
  },
  {
   "cell_type": "code",
   "execution_count": 23,
   "metadata": {},
   "outputs": [],
   "source": [
    "ag.execCypher('MATCH (u) DETACH DELETE u')\n",
    "# create test nodes, edges here\n",
    "total_edges = 4000\n",
    "for i in range(total_edges):\n",
    "    ag.execCypher('CREATE (n: VertexA {id: %s})-[e: EDGE {id: %s}]->(m: VertexB {id: %s})', params=(str(i), str(i), str(i)))\n",
    "\n",
    "\n",
    "ag.commit()"
   ]
  },
  {
   "attachments": {},
   "cell_type": "markdown",
   "metadata": {},
   "source": [
    "Load graph vertices, edges into csv\n",
    "\n",
    "-> provide absolute paths wherever in the function call path is provided"
   ]
  },
  {
   "cell_type": "code",
   "execution_count": 25,
   "metadata": {},
   "outputs": [],
   "source": [
    "store_age.load_labels_into_file(ag, '/path_to/age/drivers/python/samples/age_load/data/')"
   ]
  },
  {
   "cell_type": "code",
   "execution_count": 27,
   "metadata": {},
   "outputs": [],
   "source": [
    "store_age.load_edges_into_file(ag, '/path_to/age/drivers/python/samples/age_load/data/')"
   ]
  },
  {
   "attachments": {},
   "cell_type": "markdown",
   "metadata": {},
   "source": [
    "Delete the already created vertices, edges to check loading of graph from csv"
   ]
  },
  {
   "cell_type": "code",
   "execution_count": 28,
   "metadata": {},
   "outputs": [],
   "source": [
    "ag.execCypher('MATCH (u) DETACH DELETE u')\n",
    "ag.commit()"
   ]
  },
  {
   "attachments": {},
   "cell_type": "markdown",
   "metadata": {},
   "source": [
    "Load vertices, edges from csv"
   ]
  },
  {
   "cell_type": "code",
   "execution_count": 29,
   "metadata": {},
   "outputs": [],
   "source": [
    "load_age.load_labels_from_file(ag, '/path_to/age/drivers/python/samples/age_load/data/VertexA.csv', 'VertexA')"
   ]
  },
  {
   "cell_type": "code",
   "execution_count": 30,
   "metadata": {},
   "outputs": [],
   "source": [
    "load_age.load_labels_from_file(ag, '/path_to/age/drivers/python/samples/age_load/data/VertexB.csv', 'VertexB')"
   ]
  },
  {
   "cell_type": "code",
   "execution_count": 31,
   "metadata": {},
   "outputs": [],
   "source": [
    "load_age.load_edges_from_file(ag, '/path_to/age/drivers/python/samples/age_load/data/EDGE.csv', 'EDGE')"
   ]
  },
  {
   "attachments": {},
   "cell_type": "markdown",
   "metadata": {},
   "source": [
    "Create test nodes, edges with nested properties -- in case any of the nodes, edge has a nested property, graph is stored in json"
   ]
  },
  {
   "cell_type": "code",
   "execution_count": 32,
   "metadata": {},
   "outputs": [],
   "source": [
    "ag.execCypher('MATCH (u) DETACH DELETE u')\n",
    "# create test nodes, edges here\n",
    "total_edges = 4000\n",
    "for i in range(total_edges):\n",
    "    ag.execCypher('''\n",
    "                  CREATE (n: NodeA {key1: {\n",
    "        subkey1: {\n",
    "            subsubkey1: %s\n",
    "        }\n",
    "    }\n",
    "    })-[e: EDGE {id: %s,key1: {\n",
    "        subkey1: {\n",
    "            subsubkey1: %s\n",
    "        }\n",
    "    }}]->(m: NodeB {key3: {\n",
    "        subkey1: {\n",
    "            subsubkey1: %s\n",
    "        }}})\n",
    "    RETURN n''', params = (str(i),str(i),str(i),str(i),))\n",
    "\n",
    "\n",
    "ag.commit()"
   ]
  },
  {
   "attachments": {},
   "cell_type": "markdown",
   "metadata": {},
   "source": [
    "Load nodes, edges into the json"
   ]
  },
  {
   "cell_type": "code",
   "execution_count": 33,
   "metadata": {},
   "outputs": [],
   "source": [
    "store_age.load_labels_into_file(ag, '/path_to/age/drivers/python/samples/age_load/data/')"
   ]
  },
  {
   "cell_type": "code",
   "execution_count": 34,
   "metadata": {},
   "outputs": [],
   "source": [
    "store_age.load_edges_into_file(ag, '/path_to/age/drivers/python/samples/age_load/data/')"
   ]
  },
  {
   "attachments": {},
   "cell_type": "markdown",
   "metadata": {},
   "source": [
    "Delete the created nodes to test the loading of the nodes, edges from json"
   ]
  },
  {
   "cell_type": "code",
   "execution_count": 35,
   "metadata": {},
   "outputs": [],
   "source": [
    "ag.execCypher('MATCH (u) DETACH DELETE u')\n",
    "ag.commit()"
   ]
  },
  {
   "attachments": {},
   "cell_type": "markdown",
   "metadata": {},
   "source": [
    "Load nodes, edges from json "
   ]
  },
  {
   "cell_type": "code",
   "execution_count": 36,
   "metadata": {},
   "outputs": [],
   "source": [
    "load_age.load_labels_from_file(ag, '/path_to/age/drivers/python/samples/age_load/data/NodeA.json', 'NodeA')"
   ]
  },
  {
   "cell_type": "code",
   "execution_count": 37,
   "metadata": {},
   "outputs": [],
   "source": [
    "load_age.load_labels_from_file(ag, '/path_to/age/drivers/python/samples/age_load/data/NodeB.json', 'NodeB')"
   ]
  },
  {
   "cell_type": "code",
   "execution_count": 38,
   "metadata": {},
   "outputs": [],
   "source": [
    "load_age.load_edges_from_file(ag, '/path_to/age/drivers/python/samples/age_load/data/EDGE.json', 'EDGE')"
   ]
  },
  {
   "cell_type": "code",
   "execution_count": 18,
   "metadata": {},
   "outputs": [],
   "source": [
    "ag.close()"
   ]
  }
 ],
 "metadata": {
  "kernelspec": {
   "display_name": "Python 3",
   "language": "python",
   "name": "python3"
  },
  "language_info": {
   "codemirror_mode": {
    "name": "ipython",
    "version": 3
   },
   "file_extension": ".py",
   "mimetype": "text/x-python",
   "name": "python",
   "nbconvert_exporter": "python",
   "pygments_lexer": "ipython3",
   "version": "3.10.6"
  },
  "orig_nbformat": 4
 },
 "nbformat": 4,
 "nbformat_minor": 2
}
